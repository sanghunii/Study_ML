{
 "cells": [
  {
   "cell_type": "code",
   "execution_count": 14,
   "id": "31fa4c42",
   "metadata": {},
   "outputs": [
    {
     "name": "stdout",
     "output_type": "stream",
     "text": [
      "\n",
      "\n",
      "---------- from now, outputs are for RandomForest -------------\n",
      "0.9973541965122431 0.8903229806766861\n",
      "[0.23183515 0.50059756 0.26756729]\n",
      "0.8945545507023283\n"
     ]
    }
   ],
   "source": [
    "print('\\n\\n---------- from now, outputs are for RandomForest -------------')\n",
    "\n",
    "import numpy as np\n",
    "import pandas as pd\n",
    "from sklearn.model_selection import train_test_split\n",
    "wine = pd.read_csv('https://bit.ly/wine_csv_data')\n",
    "data = wine[['alcohol', 'sugar', 'pH']].to_numpy()\n",
    "target = wine['class'].to_numpy()\n",
    "\n",
    "train_input, test_input, train_target, test_target = train_test_split(data, target, \n",
    "                                                                      test_size = 0.2, random_state = 42)\n",
    "\n",
    "\n",
    "from sklearn.model_selection import cross_validate\n",
    "from sklearn.ensemble import RandomForestClassifier\n",
    "rf = RandomForestClassifier(n_jobs = -1, random_state = 42)\n",
    "\n",
    "scores = cross_validate(rf, train_input, train_target,\n",
    "                       return_train_score = True, n_jobs = -1)\n",
    "print(np.mean(scores['train_score']), np\n",
    "      .mean(scores['test_score']))\n",
    "\n",
    "rf.fit(train_input, train_target)\n",
    "print(rf.feature_importances_)     #compare with decision tree's feature importance\n",
    "\n",
    "rf = RandomForestClassifier(oob_score = True, n_jobs = -1, random_state = 42)\n",
    "rf.fit(train_input, train_target)\n",
    "print(rf.oob_score_)"
   ]
  },
  {
   "cell_type": "code",
   "execution_count": 13,
   "id": "0fdf61e5",
   "metadata": {},
   "outputs": [
    {
     "name": "stdout",
     "output_type": "stream",
     "text": [
      "\n",
      "\n",
      "---------- from now, outputs are for ExtraTrees -------------\n",
      "0.9974503966084433 0.8887848893166506\n"
     ]
    }
   ],
   "source": [
    "print('\\n\\n---------- from now, outputs are for ExtraTrees -------------')\n",
    "from sklearn.ensemble import ExtraTreesClassifier\n",
    "from sklearn.model_selection import cross_validate\n",
    "et = ExtraTreesClassifier(n_jobs = -1, random_state = 42)\n",
    "scores = cross_validate(et, train_input, train_target,\n",
    "                       return_train_score = True, n_jobs = -1)\n",
    "print(np.mean(scores['train_score']), np.mean(scores['test_score']))"
   ]
  }
 ],
 "metadata": {
  "kernelspec": {
   "display_name": "Python 3 (ipykernel)",
   "language": "python",
   "name": "python3"
  },
  "language_info": {
   "codemirror_mode": {
    "name": "ipython",
    "version": 3
   },
   "file_extension": ".py",
   "mimetype": "text/x-python",
   "name": "python",
   "nbconvert_exporter": "python",
   "pygments_lexer": "ipython3",
   "version": "3.12.4"
  }
 },
 "nbformat": 4,
 "nbformat_minor": 5
}
