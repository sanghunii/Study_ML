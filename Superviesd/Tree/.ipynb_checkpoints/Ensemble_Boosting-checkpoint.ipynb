{
 "cells": [
  {
   "cell_type": "code",
   "execution_count": 6,
   "id": "36782c19",
   "metadata": {},
   "outputs": [
    {
     "name": "stdout",
     "output_type": "stream",
     "text": [
      "\n",
      "\n",
      "---------- from now, outputs are for GradientBoost -------------\n",
      "0.8881086892152563 0.8720430147331015\n",
      "0.9464595437171814 0.8780082549788999\n",
      "GradientBoosting model feature importances :  [0.15881044 0.67988912 0.16130044]\n"
     ]
    }
   ],
   "source": [
    "#GradienBoostModel\n",
    "print('\\n\\n---------- from now, outputs are for GradientBoost -------------')\n",
    "\n",
    "import numpy as np\n",
    "import pandas as pd\n",
    "from sklearn.model_selection import train_test_split\n",
    "\n",
    "wine = pd.read_csv('https://bit.ly/wine_csv_data')\n",
    "data = wine[['alcohol', 'sugar', 'pH']].to_numpy()\n",
    "target = wine['class'].to_numpy()\n",
    "\n",
    "train_input, test_input, train_target, test_target = train_test_split(data, target, \n",
    "                                                                     test_size = 0.2, random_state = 42)\n",
    "\n",
    "\n",
    "from sklearn.ensemble import GradientBoostingClassifier\n",
    "from sklearn.model_selection import cross_validate\n",
    "gb = GradientBoostingClassifier(random_state = 42)\n",
    "scores = cross_validate(gb, train_input, train_target,\n",
    "                       return_train_score = True, n_jobs = -1)\n",
    "print(np.mean(scores['train_score'],), np.mean(scores['test_score']))\n",
    "\n",
    "gb = GradientBoostingClassifier(n_estimators = 500, learning_rate = 0.2,\n",
    "                               random_state = 42)\n",
    "scores = cross_validate(gb, train_input, train_target,\n",
    "                       return_train_score = True, n_jobs = -1)\n",
    "print(np.mean(scores['train_score'],), np.mean(scores['test_score']))\n",
    "\n",
    "gb.fit(train_input, train_target)\n",
    "print('GradientBoosting model feature importances : ', gb.feature_importances_)"
   ]
  },
  {
   "cell_type": "code",
   "execution_count": 3,
   "id": "48552f5d",
   "metadata": {
    "scrolled": true
   },
   "outputs": [
    {
     "name": "stdout",
     "output_type": "stream",
     "text": [
      "\n",
      "\n",
      "---------- from now, outputs are for Histogram_based Gradient Boosting -------------\n",
      "0.9321723946453317 0.8801241948619236\n",
      "importance : \n",
      " [[0.08793535 0.08350972 0.08908986]\n",
      " [0.22782374 0.23590533 0.23936887]\n",
      " [0.08581874 0.08601116 0.08062344]]\n",
      "importance mean :  [0.08684497 0.23436598 0.08415111] \n",
      "\n",
      "alcohol importance ratio :  0.21424050632911396\n",
      "sugar importance ratio :  0.5781645569620253\n",
      "pH importance ratio :  0.2075949367088608\n",
      "\n",
      "importace std :  [0.00240502 0.00483733 0.00249568]\n",
      "\n",
      "\n",
      "test_set_mean_of_importances :  [0.05969231 0.20238462 0.049     ]\n",
      "Final score :  0.8723076923076923\n"
     ]
    }
   ],
   "source": [
    "#Histogram-Based Gradient Boosting Model\n",
    "print('\\n\\n---------- from now, outputs are for Histogram_based Gradient Boosting -------------')\n",
    "from sklearn.ensemble import HistGradientBoostingClassifier\n",
    "hgb = HistGradientBoostingClassifier(random_state = 42)\n",
    "scores = cross_validate(hgb, train_input, train_target,\n",
    "                       return_train_score = True)\n",
    "print(np.mean(scores['train_score']), np.mean(scores['test_score']))\n",
    "\n",
    "from sklearn.inspection import permutation_importance\n",
    "\n",
    "\n",
    "hgb.fit(train_input, train_target)\n",
    "#Compute feature importances on train_set\n",
    "result = permutation_importance(hgb, train_input, train_target,\n",
    "                               n_repeats = 3, random_state = 42, n_jobs=-1)\n",
    "#np.array()를 이용해서 넘파이 배열로 바꿔서 출력하면 행렬이 구분되어서 출력되서 알아보기 쉽게 출력된다.\n",
    "importances = np.array(result.importances)\n",
    "print('importance : \\n', importances)\n",
    "print('importance mean : ', result.importances_mean, '\\n')\n",
    "print('alcohol importance ratio : ', result.importances_mean[0] / result.importances_mean.sum())\n",
    "print('sugar importance ratio : ', result.importances_mean[1] / result.importances_mean.sum())\n",
    "print('pH importance ratio : ', result.importances_mean[2] / result.importances_mean.sum())\n",
    "print('\\nimportace std : ', result.importances_std)\n",
    "\n",
    "\n",
    "\n",
    "#Compoute feature importances on test_set\n",
    "result = permutation_importance(hgb, test_input, test_target,\n",
    "                               n_repeats=10, random_state = 42, n_jobs = -1)\n",
    "print('\\n\\ntest_set_mean_of_importances : ', result.importances_mean)\n",
    "\n",
    "print('Final score : ', hgb.score(test_input, test_target))"
   ]
  },
  {
   "cell_type": "code",
   "execution_count": 9,
   "id": "e7edfc51",
   "metadata": {},
   "outputs": [
    {
     "ename": "ModuleNotFoundError",
     "evalue": "No module named 'xgboost'",
     "output_type": "error",
     "traceback": [
      "\u001b[0;31m---------------------------------------------------------------------------\u001b[0m",
      "\u001b[0;31mModuleNotFoundError\u001b[0m                       Traceback (most recent call last)",
      "Cell \u001b[0;32mIn[9], line 2\u001b[0m\n\u001b[1;32m      1\u001b[0m \u001b[38;5;66;03m#XGBoost - Histogram-Based Gradient Boosting Model\u001b[39;00m\n\u001b[0;32m----> 2\u001b[0m \u001b[38;5;28;01mimport\u001b[39;00m \u001b[38;5;21;01mxgboost\u001b[39;00m\n\u001b[1;32m      3\u001b[0m xgb \u001b[38;5;241m=\u001b[39m XGBClassifier(tree_method \u001b[38;5;241m=\u001b[39m \u001b[38;5;124m'\u001b[39m\u001b[38;5;124mhis\u001b[39m\u001b[38;5;124m'\u001b[39m, random_state \u001b[38;5;241m=\u001b[39m \u001b[38;5;241m42\u001b[39m)\n\u001b[1;32m      4\u001b[0m scores \u001b[38;5;241m=\u001b[39m cross_validate(xgb, train_input, train_target,\n\u001b[1;32m      5\u001b[0m                        reurn_train_score \u001b[38;5;241m=\u001b[39m \u001b[38;5;28;01mTrue\u001b[39;00m)\n",
      "\u001b[0;31mModuleNotFoundError\u001b[0m: No module named 'xgboost'"
     ]
    }
   ],
   "source": [
    "#XGBoost - Histogram-Based Gradient Boosting Model\n",
    "import xgboost\n",
    "xgb = XGBClassifier(tree_method = 'his', random_state = 42)\n",
    "scores = cross_validate(xgb, train_input, train_target,\n",
    "                       reurn_train_score = True)\n",
    "print(np.mean(scores['train_score']), np.mean(scores['test_score']))"
   ]
  }
 ],
 "metadata": {
  "kernelspec": {
   "display_name": "Python 3 (ipykernel)",
   "language": "python",
   "name": "python3"
  },
  "language_info": {
   "codemirror_mode": {
    "name": "ipython",
    "version": 3
   },
   "file_extension": ".py",
   "mimetype": "text/x-python",
   "name": "python",
   "nbconvert_exporter": "python",
   "pygments_lexer": "ipython3",
   "version": "3.12.4"
  }
 },
 "nbformat": 4,
 "nbformat_minor": 5
}
